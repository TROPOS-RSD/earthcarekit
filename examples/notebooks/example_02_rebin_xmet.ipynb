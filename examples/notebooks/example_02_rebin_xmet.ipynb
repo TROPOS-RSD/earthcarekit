{
 "cells": [
  {
   "cell_type": "markdown",
   "id": "51172c3d",
   "metadata": {},
   "source": [
    "# **Example 2** Rebin X-MET to match vertical along-track cross-section of another Product"
   ]
  },
  {
   "cell_type": "code",
   "execution_count": null,
   "id": "37a2e3b3",
   "metadata": {},
   "outputs": [],
   "source": [
    "import earthcarekit as eck"
   ]
  },
  {
   "cell_type": "markdown",
   "id": "eb4db915",
   "metadata": {},
   "source": [
    "## Requirements\n",
    "\n",
    "EarthCARE files:\n",
    "- `ATL_NOM_1B` for frame 01508B\n",
    "- `AUX_MET_1D` for frame 01508B\n",
    "\n",
    "Place the file in the notebook's directory or within a subfolder.\n",
    "\n",
    "If needed, you can (optionally) download the product by executing the following code block:"
   ]
  },
  {
   "cell_type": "code",
   "execution_count": null,
   "id": "e5144b02",
   "metadata": {},
   "outputs": [],
   "source": [
    "print(\"Download required products:\")\n",
    "print(\"#######################################\")\n",
    "print(\"-> Download: ATL_NOM_1B and AUX_MET_1D for frame 01508B\")\n",
    "eck.ecdownload(\n",
    "    file_type=[\"anom\", \"xmet\"],\n",
    "    orbit_and_frame=\"1508B\",\n",
    "    path_to_data=\".\",  # Select the notebook's folder as root directory\n",
    "    is_create_subdirs=False,  # Don't create a nested subfolder structure for downloaded files\n",
    ")"
   ]
  },
  {
   "cell_type": "markdown",
   "id": "10990d8a",
   "metadata": {},
   "source": [
    "## **Example 2.1** Rebin X-MET to A-NOM grid\n",
    "\n",
    "This example also applies to other vertical/along-track product grids, like C-NOM or JSG-based level 2 products (e.g., A-EBD)."
   ]
  },
  {
   "cell_type": "code",
   "execution_count": null,
   "id": "46df65d1",
   "metadata": {},
   "outputs": [],
   "source": [
    "print(\"Search products:\")\n",
    "\n",
    "df_anom = eck.search_product(\n",
    "    file_type=\"anom\",\n",
    "    orbit_and_frame=\"1508B\",\n",
    "    root_dirpath=\".\",  # Select the notebook's folder as root directory\n",
    ")\n",
    "fp_anom = df_anom.filepath[-1]\n",
    "print(f\"- A-NOM results: {df_anom.name}\")\n",
    "\n",
    "df_xmet = eck.search_product(\n",
    "    file_type=\"xmet\",\n",
    "    orbit_and_frame=\"1508B\",\n",
    "    root_dirpath=\".\",  # Select the notebook's folder as root directory\n",
    ")\n",
    "fp_xmet = df_xmet.filepath[-1]\n",
    "print(f\"- X-MET results: {df_xmet.name}\")"
   ]
  },
  {
   "cell_type": "code",
   "execution_count": null,
   "id": "d1699ee1",
   "metadata": {},
   "outputs": [],
   "source": [
    "with (\n",
    "    eck.read_product(fp_anom) as ds_anom,\n",
    "    eck.read_product(fp_xmet) as ds_xmet,\n",
    "):\n",
    "    print(f\"A-NOM dims: {ds_anom.sizes}\")\n",
    "    print(f\"X-MET dims before rebin: {ds_xmet.sizes}\")\n",
    "    ds_xmet = eck.rebin_xmet_to_vertical_track(\n",
    "        ds_xmet=ds_xmet,\n",
    "        ds_vert=ds_anom,\n",
    "    )\n",
    "    print(f\"X-MET dims after rebin: {ds_xmet.sizes}\")"
   ]
  },
  {
   "cell_type": "code",
   "execution_count": null,
   "id": "672893fe",
   "metadata": {},
   "outputs": [],
   "source": [
    "print(\"Plot X-MET variable:\")\n",
    "cf = eck.CurtainFigure()\n",
    "cf = cf.ecplot(\n",
    "    ds=ds_xmet,\n",
    "    var=\"temperature_celsius\",\n",
    "    cmap=\"RdBu_r\",\n",
    ")"
   ]
  },
  {
   "cell_type": "code",
   "execution_count": null,
   "id": "dd91c740",
   "metadata": {},
   "outputs": [],
   "source": [
    "print(\"Plot A-NOM variable with X-MET temperature contour lines:\")\n",
    "cf2 = eck.CurtainFigure()\n",
    "cf2 = cf2.ecplot(\n",
    "    ds=ds_anom,\n",
    "    var=\"mie_attenuated_backscatter\",\n",
    ")\n",
    "cf2 = cf2.ecplot_temperature(ds_xmet, colors=\"white\")"
   ]
  }
 ],
 "metadata": {
  "kernelspec": {
   "display_name": "eckenv (3.11.9)",
   "language": "python",
   "name": "python3"
  },
  "language_info": {
   "codemirror_mode": {
    "name": "ipython",
    "version": 3
   },
   "file_extension": ".py",
   "mimetype": "text/x-python",
   "name": "python",
   "nbconvert_exporter": "python",
   "pygments_lexer": "ipython3",
   "version": "3.11.9"
  }
 },
 "nbformat": 4,
 "nbformat_minor": 5
}
