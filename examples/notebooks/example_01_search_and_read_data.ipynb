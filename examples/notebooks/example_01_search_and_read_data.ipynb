{
 "cells": [
  {
   "cell_type": "markdown",
   "id": "51172c3d",
   "metadata": {},
   "source": [
    "# **Example 1** Search and read EarthCARE data"
   ]
  },
  {
   "cell_type": "code",
   "execution_count": null,
   "id": "37a2e3b3",
   "metadata": {},
   "outputs": [],
   "source": [
    "import earthcarekit as eck"
   ]
  },
  {
   "cell_type": "markdown",
   "id": "eb4db915",
   "metadata": {},
   "source": [
    "## Requirements\n",
    "\n",
    "EarthCARE files:\n",
    "- `ATL_NOM_1B` frame 01508B\n",
    "- `ATL_EBD_2A` full orbit 5813 (frames A to H)\n",
    "\n",
    "Place the file in the notebook's directory or within a subfolder.\n",
    "\n",
    "If needed, you can (optionally) download the product by executing the following code block:"
   ]
  },
  {
   "cell_type": "code",
   "execution_count": null,
   "id": "e5144b02",
   "metadata": {},
   "outputs": [],
   "source": [
    "print(\"Download required products:\")\n",
    "print(\"#######################################\")\n",
    "print(\"-> Download: ATL_NOM_1B frame 01508B\")\n",
    "eck.ecdownload(\n",
    "    file_type=\"ATL_NOM_1B\",\n",
    "    orbit_and_frame=\"1508B\",\n",
    "    path_to_data=\".\",  # Select the notebook's folder as root directory\n",
    "    is_create_subdirs=False,  # Don't create a nested subfolder structure for downloaded files\n",
    ")\n",
    "print(\"#######################################\")\n",
    "print(\"-> Download: ATL_EBD_2A full orbit 5813\")\n",
    "eck.ecdownload(\n",
    "    file_type=\"ATL_EBD_2A\",\n",
    "    orbit_number=5813,\n",
    "    path_to_data=\".\",  # Select the notebook's folder as root directory\n",
    "    is_create_subdirs=False,  # Don't create a nested subfolder structure for downloaded files\n",
    ")"
   ]
  },
  {
   "cell_type": "markdown",
   "id": "8fdda6be",
   "metadata": {},
   "source": [
    "## **Example 1.1** Search files"
   ]
  },
  {
   "cell_type": "code",
   "execution_count": null,
   "id": "46df65d1",
   "metadata": {},
   "outputs": [],
   "source": [
    "print(\"Search products using different filters:\")\n",
    "\n",
    "df = eck.search_product(\n",
    "    file_type=\"ATL_NOM_1B\",\n",
    "    orbit_and_frame=\"1508B\",\n",
    "    root_dirpath=\".\",  # Select the notebook's folder as root directory\n",
    ")\n",
    "print(\"- Results using 'orbit_and_frame':\", df.name)\n",
    "\n",
    "df = eck.search_product(\n",
    "    file_type=\"ATL_NOM_1B\",\n",
    "    orbit_number=1508,\n",
    "    frame_id=\"B\",\n",
    "    root_dirpath=\".\",  # Select the notebook's folder as root directory\n",
    ")\n",
    "print(\"- Results using 'orbit_number' and 'frame_id':\", df.name)\n",
    "\n",
    "df = eck.search_product(\n",
    "    file_type=\"ATL_NOM_1B\",\n",
    "    timestamp=\"2024-09-02 21:05\", # Returns products containing this timestamp\n",
    "    root_dirpath=\".\",  # Select the notebook's folder as root directory\n",
    ")\n",
    "print(\"- Results using 'timestamp':\", df.name)\n",
    "\n",
    "df = eck.search_product(\n",
    "    file_type=\"ATL_NOM_1B\",\n",
    "    start_time=\"20240902T21\",\n",
    "    end_time=\"20240902T2110\",\n",
    "    root_dirpath=\".\",  # Select the notebook's folder as root directory\n",
    ")\n",
    "print(\"- Results using 'start_time' and 'end_time':\", df.name)\n",
    "\n",
    "df = eck.search_product(\n",
    "    file_type=[\"anom\", \"aebd\"],\n",
    "    orbit_number=[1508, 5813],\n",
    "    frame_id=[\"A\", \"B\", \"C\"],\n",
    "    root_dirpath=\".\",  # Select the notebook's folder as root directory\n",
    ")\n",
    "print(\"- Results using lists:\\n\", df.name)"
   ]
  },
  {
   "cell_type": "markdown",
   "id": "10990d8a",
   "metadata": {},
   "source": [
    "## **Example 1.2** Read single files"
   ]
  },
  {
   "cell_type": "code",
   "execution_count": null,
   "id": "d1699ee1",
   "metadata": {},
   "outputs": [],
   "source": [
    "print(\"Search products by orbit number and frame ID:\")\n",
    "df = eck.search_product(\n",
    "    file_type=\"ATL_NOM_1B\",\n",
    "    orbit_and_frame=\"1508B\",\n",
    "    root_dirpath=\".\",  # Select the notebook's folder as root directory\n",
    ")\n",
    "print(df.name)\n",
    "\n",
    "fp = df.filepath[-1]  # Select file from ProductDataFrame\n",
    "\n",
    "with eck.read_product(fp) as ds:\n",
    "    display(ds)\n",
    "    cf = eck.CurtainFigure()\n",
    "    cf = cf.ecplot(\n",
    "        ds=ds,\n",
    "        var=\"mie_attenuated_backscatter\",\n",
    "        height_range=(0, 25e3),\n",
    "    )"
   ]
  },
  {
   "cell_type": "markdown",
   "id": "dc825d23",
   "metadata": {},
   "source": [
    "## **Example 1.3** Read consecutive files or a full orbit"
   ]
  },
  {
   "cell_type": "markdown",
   "id": "ad8aabe0",
   "metadata": {},
   "source": [
    "> 💡 Note: When reading multiple products with `read_products()`, the resulting dataset is coarsened by averaging adjacent pixels. For example, merging 8 products averages every 8 neighboring pixels into one.\n",
    ">\n",
    "> Alternatively, you can zoom into a region by setting the `zoom_at` fractional index - without loss of resolution. For example in case you read a full orbit (8 files):\n",
    "> - `zoom_at=0` will display the 1st frame (A frame)\n",
    "> - `zoom_at=0.5` will display data from center of the 1st to center of the 2nd frame - with the transition between both frames at the center\n",
    "> - `zoom_at=1` will display the 2nd frame (B frame)\n",
    "> - `zoom_at=1.5` transition from 2nd to 3rd frame\n",
    "> - `zoom_at=2` 3rd frame (C frame)\n",
    "> - `zoom_at=2.25` last 75% of the 3rd and first 25% of the 4th frame\n",
    "> - ..."
   ]
  },
  {
   "cell_type": "code",
   "execution_count": null,
   "id": "3e527970",
   "metadata": {},
   "outputs": [],
   "source": [
    "print(\"Search products of a full orbit:\")\n",
    "df = eck.search_product(\n",
    "    file_type=\"ATL_EBD_2A\",\n",
    "    orbit_number=5813,\n",
    "    root_dirpath=\".\",  # Select the notebook's folder as root directory\n",
    ")\n",
    "print(df.name)"
   ]
  },
  {
   "cell_type": "code",
   "execution_count": null,
   "id": "0a565888",
   "metadata": {},
   "outputs": [],
   "source": [
    "print(\"Read and merge datasets of a full orbit:\")\n",
    "with eck.read_products(df) as ds:\n",
    "    display(ds)"
   ]
  },
  {
   "cell_type": "code",
   "execution_count": null,
   "id": "b7d80b63",
   "metadata": {},
   "outputs": [],
   "source": [
    "print(\"Plot the full orbit:\")\n",
    "cf = eck.CurtainFigure()\n",
    "cf = cf.ecplot(\n",
    "    ds=ds,\n",
    "    var=\"particle_backscatter_coefficient_355nm\",\n",
    "    height_range=(0, 25e3),\n",
    ")"
   ]
  },
  {
   "cell_type": "code",
   "execution_count": null,
   "id": "bf274246",
   "metadata": {},
   "outputs": [],
   "source": [
    "print(\"Show only transition between 1st and 2nd frame:\")\n",
    "with eck.read_products(df, zoom_at=0.5) as ds:\n",
    "    cf = eck.CurtainFigure()\n",
    "    cf = cf.ecplot(\n",
    "        ds=ds,\n",
    "        var=\"particle_backscatter_coefficient_355nm\",\n",
    "        height_range=(0, 25e3),\n",
    "    )"
   ]
  }
 ],
 "metadata": {
  "kernelspec": {
   "display_name": "eckenv (3.11.9)",
   "language": "python",
   "name": "python3"
  },
  "language_info": {
   "codemirror_mode": {
    "name": "ipython",
    "version": 3
   },
   "file_extension": ".py",
   "mimetype": "text/x-python",
   "name": "python",
   "nbconvert_exporter": "python",
   "pygments_lexer": "ipython3",
   "version": "3.11.9"
  }
 },
 "nbformat": 4,
 "nbformat_minor": 5
}
