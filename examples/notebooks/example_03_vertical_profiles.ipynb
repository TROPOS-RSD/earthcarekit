{
 "cells": [
  {
   "cell_type": "markdown",
   "id": "51172c3d",
   "metadata": {},
   "source": [
    "# **Example 3** Working with vertical profiles using the `ProfileData` class"
   ]
  },
  {
   "cell_type": "code",
   "execution_count": null,
   "id": "37a2e3b3",
   "metadata": {},
   "outputs": [],
   "source": [
    "import earthcarekit as eck\n",
    "import numpy as np\n",
    "import pandas as pd"
   ]
  },
  {
   "cell_type": "markdown",
   "id": "adae2a7c",
   "metadata": {},
   "source": [
    "## **3.1** Initializing `ProfileData`"
   ]
  },
  {
   "cell_type": "code",
   "execution_count": null,
   "id": "2c7231f7",
   "metadata": {},
   "outputs": [],
   "source": [
    "# ProfileData has 3 required inputs:\n",
    "# - values\n",
    "# - height\n",
    "# - time\n",
    "\n",
    "p = eck.ProfileData(\n",
    "    values=[[0, 0.4, 1, 1, 0.6, 0]],\n",
    "    height=[0e3, 5e3, 10e3, 15e3, 20e3, 25e3],\n",
    "    time=[\"2025-01-01T00:00\"],\n",
    ")\n",
    "display(p)\n",
    "\n",
    "# Plotting\n",
    "pf = eck.ProfileFigure().plot(p)"
   ]
  },
  {
   "cell_type": "code",
   "execution_count": null,
   "id": "1b6db90a",
   "metadata": {},
   "outputs": [],
   "source": [
    "# Note: This cell requires external input data!\n",
    "# Instead of manually creating ProfileData objects,\n",
    "# they can be crated from xarray datasets:\n",
    "\n",
    "fp = r\"./ECA_EXBA_ATL_EBD_2A_20240902T210023Z_20250721T110708Z_01508B.h5\"  # Replace path with one of your local files\n",
    "with eck.read_any(fp) as ds:\n",
    "    display(ds)\n",
    "\n",
    "    p = eck.ProfileData.from_dataset(ds, var=\"particle_backscatter_coefficient_355nm\")  # Select a valid variable from the dataset\n",
    "\n",
    "    # Plotting\n",
    "    cf = eck.CurtainFigure().plot(p, log_scale=True, cmap=\"calipso\", value_range=(1e-7, 1e-4), height_range=(0, 20e3))  # Custommize curtain plot settings\n",
    "    pf = eck.ProfileFigure(height_range=(0, 20e3)).plot(p)"
   ]
  },
  {
   "cell_type": "markdown",
   "id": "eb4db915",
   "metadata": {},
   "source": [
    "## **3.2** Single profiles"
   ]
  },
  {
   "cell_type": "code",
   "execution_count": null,
   "id": "e5144b02",
   "metadata": {},
   "outputs": [],
   "source": [
    "# Generating example data\n",
    "nh = 1000  # Number of height bins\n",
    "h = np.linspace(0, 40e3, nh)  # Height values in meters\n",
    "v = np.abs(np.sin(np.linspace(np.pi*3, -np.pi, nh)) * h)  # Signal values\n",
    "v = v / np.max(v)\n",
    "\n",
    "p = eck.ProfileData(\n",
    "    values=v,\n",
    "    height=h,\n",
    "    time=[\"2025-01-01T00:00\"],\n",
    ")\n",
    "\n",
    "# Plotting\n",
    "pf = eck.ProfileFigure().plot(p)"
   ]
  },
  {
   "cell_type": "markdown",
   "id": "391da07b",
   "metadata": {},
   "source": [
    "### **3.2.1** Select a height range"
   ]
  },
  {
   "cell_type": "code",
   "execution_count": null,
   "id": "15cc874d",
   "metadata": {},
   "outputs": [],
   "source": [
    "height_range = (5e3, 15e3)\n",
    "p_selected = p.select_height_range(height_range)\n",
    "\n",
    "# Plotting\n",
    "pf = eck.ProfileFigure(label=\"The variable name\", units=\"some units\", show_legend=True, value_range=(0,1))\n",
    "pf = pf.plot(p, linestyle=\"dotted\", legend_label=\"original\")\n",
    "pf = pf.plot(p_selected, linewidth=3, legend_label=\"selected\")"
   ]
  },
  {
   "cell_type": "code",
   "execution_count": null,
   "id": "9cc85753",
   "metadata": {},
   "outputs": [],
   "source": [
    "# Note: You can also mark the selected height range in the plot\n",
    "pf = eck.ProfileFigure(value_range=(0,1))\n",
    "pf = pf.plot(p, selection_height_range=(5e3, 15e3))"
   ]
  },
  {
   "cell_type": "markdown",
   "id": "19ca5412",
   "metadata": {},
   "source": [
    "### **3.2.2** Rebin the profile to new height bin centers"
   ]
  },
  {
   "cell_type": "code",
   "execution_count": null,
   "id": "e0bb4ba9",
   "metadata": {},
   "outputs": [],
   "source": [
    "new_height = np.linspace(0,40e3,11)\n",
    "\n",
    "p_rebin_mean = p.rebin_height(new_height)\n",
    "p_rebin_interp = p.rebin_height(new_height, method=\"interpolate\")\n",
    "\n",
    "# Plotting\n",
    "pf = eck.ProfileFigure(label=\"The variable name\", units=\"some units\", show_legend=True, value_range=(0,1))\n",
    "pf = pf.plot(p, legend_label=\"profile\")\n",
    "pf = pf.plot(p_rebin_mean, legend_label='rebin (method = \"mean\")')\n",
    "pf = pf.plot(p_rebin_interp, legend_label='rebin (method = \"interpolate\")')"
   ]
  },
  {
   "cell_type": "markdown",
   "id": "6b3ce544",
   "metadata": {},
   "source": [
    "### **3.2.3** Calculate statistics and compare profiles"
   ]
  },
  {
   "cell_type": "code",
   "execution_count": null,
   "id": "64df95c3",
   "metadata": {},
   "outputs": [],
   "source": [
    "results = p.stats()\n",
    "display(results)\n",
    "\n",
    "results2 = p.stats(height_range=(7_500, 12_500))\n",
    "display(results2)\n",
    "\n",
    "results3 = p.stats(height_range=(12_500, 17_500))\n",
    "display(results3)\n",
    "\n",
    "print(\"Create a dataframe:\")\n",
    "df = pd.concat([\n",
    "    results.to_dataframe(),\n",
    "    results2.to_dataframe(),\n",
    "    results3.to_dataframe(),\n",
    "])\n",
    "display(df)"
   ]
  },
  {
   "cell_type": "code",
   "execution_count": null,
   "id": "12c38a24",
   "metadata": {},
   "outputs": [],
   "source": [
    "# Compare 2 profiles\n",
    "# Note: Here we compare the 2 rebinned profiles from section 3.1.2 above.\n",
    "\n",
    "results = p_rebin_mean.compare_to(p_rebin_interp)\n",
    "display(results)\n",
    "display(results.to_dataframe())\n",
    "\n",
    "# Plotting\n",
    "pf = eck.ProfileFigure(label=\"The variable name\", units=\"some units\", show_legend=True, value_range=(0,1))\n",
    "pf = pf.plot(p_rebin_mean, legend_label='rebin (method = \"mean\")',color=\"tab:orange\")\n",
    "pf = pf.plot(p_rebin_interp, legend_label='rebin (method = \"interpolate\")',color=\"tab:green\")"
   ]
  },
  {
   "cell_type": "markdown",
   "id": "de6b45f2",
   "metadata": {},
   "source": [
    "## **3.3** Multiple profiles (curtain)"
   ]
  },
  {
   "cell_type": "code",
   "execution_count": null,
   "id": "3d7cfce6",
   "metadata": {},
   "outputs": [],
   "source": [
    "# Generating example data\n",
    "nh = 100  # Number of height bins\n",
    "h = np.linspace(0, 40e3, nh)\n",
    "\n",
    "nt = 300  # Number of (temporal) samples\n",
    "y = np.linspace(-0.5, 0.5, nh)\n",
    "x = np.linspace(-1, 2, nt)\n",
    "gx, gy = np.meshgrid(x, y)\n",
    "r = np.sqrt(gx**2 + gy**2)\n",
    "v = np.sin(50 * r).T\n",
    "v = np.abs(v) * np.linspace(1, 0.1, nh)\n",
    "\n",
    "p = eck.ProfileData(\n",
    "    values=v,\n",
    "    height=h,\n",
    "    time=pd.date_range(\"20250101T00\", \"20250101T12\", periods=nt),\n",
    ")\n",
    "\n",
    "# PLotting\n",
    "cf = eck.CurtainFigure().plot(p, value_range=(0,1))\n",
    "pf = eck.ProfileFigure().plot(p, value_range=(0,1))"
   ]
  },
  {
   "cell_type": "markdown",
   "id": "e79c7314",
   "metadata": {},
   "source": [
    "### **3.3.1** Get mean profile"
   ]
  },
  {
   "cell_type": "code",
   "execution_count": null,
   "id": "d1d0c0ba",
   "metadata": {},
   "outputs": [],
   "source": [
    "p_mean = p.mean()\n",
    "print(f\"{p.shape=}\")\n",
    "print(f\"{p_mean.shape=}\")\n",
    "\n",
    "# Plotting\n",
    "pf = eck.ProfileFigure().plot(p_mean, value_range=(0,1))"
   ]
  },
  {
   "cell_type": "markdown",
   "id": "2da14f27",
   "metadata": {},
   "source": [
    "### **3.3.2** Apply rolling mean (or moving average) "
   ]
  },
  {
   "cell_type": "code",
   "execution_count": null,
   "id": "1d9ed48d",
   "metadata": {},
   "outputs": [],
   "source": [
    "p_roll = p.rolling_mean(20, axis=0)\n",
    "print(f\"{p.shape=}\")\n",
    "print(f\"{p_roll.shape=}\")\n",
    "\n",
    "# Plotting\n",
    "cf = eck.CurtainFigure().plot(p_roll, value_range=(0,1))\n",
    "pf = eck.ProfileFigure().plot(p_roll, value_range=(0,1))"
   ]
  },
  {
   "cell_type": "markdown",
   "id": "da728e87",
   "metadata": {},
   "source": [
    "### **3.3.3** Coarsen profiles"
   ]
  },
  {
   "cell_type": "code",
   "execution_count": null,
   "id": "9d3a42d1",
   "metadata": {},
   "outputs": [],
   "source": [
    "p_coarsened = p.coarsen_mean(20)\n",
    "print(f\"{p.shape=}\")\n",
    "print(f\"{p_coarsened.shape=}\")\n",
    "\n",
    "# Plotting\n",
    "cf = eck.CurtainFigure().plot(p_coarsened, value_range=(0,1))\n",
    "pf = eck.ProfileFigure().plot(p_coarsened, value_range=(0,1))"
   ]
  },
  {
   "cell_type": "markdown",
   "id": "5350d1a5",
   "metadata": {},
   "source": [
    "### **3.3.4** Rebin to new height bins"
   ]
  },
  {
   "cell_type": "code",
   "execution_count": null,
   "id": "c52da459",
   "metadata": {},
   "outputs": [],
   "source": [
    "height_bin_centers = [0, 5e3, 10e3, 15e3, 20e3, 25e3, 30e3, 35e3, 40e3]\n",
    "p_rebinned_height_mean = p.rebin_height(height_bin_centers)\n",
    "p_rebinned_height_interp = p.rebin_height(height_bin_centers, method=\"interpolate\")\n",
    "\n",
    "# Plotting\n",
    "cf = eck.CurtainFigure().plot(p_rebinned_height_mean, value_range=(0,1))\n",
    "cf = eck.CurtainFigure().plot(p_rebinned_height_interp, value_range=(0,1))"
   ]
  },
  {
   "cell_type": "markdown",
   "id": "9abd825e",
   "metadata": {},
   "source": [
    "### **3.3.4** Rebin to new time bins"
   ]
  },
  {
   "cell_type": "code",
   "execution_count": null,
   "id": "34f775cf",
   "metadata": {},
   "outputs": [],
   "source": [
    "time_bin_centers = [\"20250101T00\", \"20250101T04\", \"20250101T08\", \"20250101T12\"]\n",
    "p_rebinned_time_mean = p.rebin_time(time_bin_centers)\n",
    "p_rebinned_time_interp = p.rebin_time(time_bin_centers, method=\"interpolate\")\n",
    "\n",
    "# Plotting\n",
    "cf = eck.CurtainFigure().plot(p_rebinned_time_mean, value_range=(0,1))\n",
    "cf = eck.CurtainFigure().plot(p_rebinned_time_interp, value_range=(0,1))"
   ]
  }
 ],
 "metadata": {
  "kernelspec": {
   "display_name": "eckenv (3.11.9)",
   "language": "python",
   "name": "python3"
  },
  "language_info": {
   "codemirror_mode": {
    "name": "ipython",
    "version": 3
   },
   "file_extension": ".py",
   "mimetype": "text/x-python",
   "name": "python",
   "nbconvert_exporter": "python",
   "pygments_lexer": "ipython3",
   "version": "3.11.9"
  }
 },
 "nbformat": 4,
 "nbformat_minor": 5
}
