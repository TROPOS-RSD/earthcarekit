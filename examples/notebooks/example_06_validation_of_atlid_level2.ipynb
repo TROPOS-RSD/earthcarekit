{
 "cells": [
  {
   "cell_type": "markdown",
   "id": "5329f79c",
   "metadata": {},
   "source": [
    "# **Example 6** Validation of ATLID level 2 data\n",
    "\n",
    "This notebook shows how A-EBD profiles (backscatter, extinction, lidar ratio and depol. ratio) can be compared with ground-based data from `.nc`-files."
   ]
  },
  {
   "cell_type": "code",
   "execution_count": null,
   "id": "37a2e3b3",
   "metadata": {},
   "outputs": [],
   "source": [
    "import earthcarekit as eck"
   ]
  },
  {
   "cell_type": "markdown",
   "id": "b6e0a601",
   "metadata": {},
   "source": [
    "## Requirements\n",
    "\n",
    "For this example you need a A-EBD file from an overpass and the matching ground data (e.g., PollyNET `.nc`-file).\n",
    "\n",
    "Paste both file paths into the cell below:"
   ]
  },
  {
   "cell_type": "code",
   "execution_count": null,
   "id": "46df65d1",
   "metadata": {},
   "outputs": [],
   "source": [
    "fp_aebd = r\"./ECA_EXBA_ATL_EBD_2A_20240902T210023Z_20250721T110708Z_01508B.h5\"\n",
    "fp_ground = r\"./2024_09_02_Mon_TJK_00_00_01_2000_2130_profiles.nc\"\n",
    "\n",
    "# Also specify the ground site by either setting its name (string) or creating a custom GroundSite object:\n",
    "site = \"dushanbe\"\n",
    "radius_km = 100.0"
   ]
  },
  {
   "cell_type": "markdown",
   "id": "12c22ede",
   "metadata": {},
   "source": [
    "## **6.1** Open and view datasets"
   ]
  },
  {
   "cell_type": "code",
   "execution_count": null,
   "id": "b65ef9d2",
   "metadata": {},
   "outputs": [],
   "source": [
    "print(\"Open the A-EBD dataset:\")\n",
    "with eck.read_product(fp_aebd) as ds_aebd:\n",
    "    display(ds_aebd)\n",
    "\n",
    "print(\"Open the ground-based dataset:\")\n",
    "with eck.read_nc(fp_ground) as ds_ground:\n",
    "    display(ds_ground)"
   ]
  },
  {
   "cell_type": "code",
   "execution_count": null,
   "id": "4ee8eceb",
   "metadata": {},
   "outputs": [],
   "source": [
    "import logging\n",
    "with eck.read_product(fp_aebd) as ds_aebd:\n",
    "    print(\"Create a quicklook of the overpass from the A-EBD file:\")\n",
    "    print(\"Note: When plotting profiles from A-PRO products, the `ecquicklook` function will automatically plot only the closest profile within the set radius.\")\n",
    "    fig, _ = eck.ecquicklook(\n",
    "        ds=ds_aebd,\n",
    "        site=site,\n",
    "        radius_km=radius_km,\n",
    "        resolution=\"low\",  # Change the A-EBD resolution as needed\n",
    "        height_range=(0, 12e3),  # Change the plotting height as needed\n",
    "        selection_max_time_margin=\"00:01:00\",  # Crop the plot to show only 1 Minute around the overpass start and end times\n",
    "        logger=logging.getLogger(),  # Optional: Shows plotting progress\n",
    "        show_steps=True,\n",
    "        mode=\"exact\",\n",
    "    )\n",
    "    print(\"Save the quicklook:\")\n",
    "    eck.save_plot(fig, filepath=\"./01508B_20250902_aebd_quicklook.png\")"
   ]
  },
  {
   "cell_type": "markdown",
   "id": "557acf0e",
   "metadata": {},
   "source": [
    "## **6.2** Create backscatter, extinction, lidar ratio and depol. ratio profile plots and comparison statistics "
   ]
  },
  {
   "cell_type": "code",
   "execution_count": null,
   "id": "fb68e561",
   "metadata": {},
   "outputs": [],
   "source": [
    "# Note: Ensure that all your input bsc. and ext. data are given as [m-1sr-1]/[m-1] instead of [Mm-1sr-1]/[Mm-1].\n",
    "#       You can convert your results (plot and stats) to mega by setting the argument to_mega=True.\n",
    "with (\n",
    "    eck.read_product(fp_aebd) as ds_aebd,  # Here you could read other or additional EarthCARE files like A-AER\n",
    "    eck.read_any(fp_ground) as ds_ground,\n",
    "):\n",
    "    results = eck.compare_bsc_ext_lr_depol(\n",
    "        input_ec=ds_aebd,\n",
    "        resolution=\"low\",  # Change the A-EBD resolution as needed\n",
    "\n",
    "        input_ec2=ds_aebd,  # Here from the same A-EBD dataset ...\n",
    "        resolution2=\"medium\",  # ... the high resolution is taken\n",
    "\n",
    "        input_ground=ds_ground,\n",
    "        site=site,\n",
    "        time_var_ground=\"start_time\",  # Set to the time variable name in the ground-based dataset\n",
    "        height_var_ground=\"height\",  # Set to the height variable name in the ground-based dataset\n",
    "        bsc_var_ground=[\"aerBsc_klett_355\", \"aerBsc_raman_355\"],  # Provide list of variables name from the ground-based dataset\n",
    "        ext_var_ground=[\"aerExt_klett_355\", \"aerExt_raman_355\"],\n",
    "        lr_var_ground=[\"aerLR_klett_355\", \"aerLR_raman_355\"],\n",
    "        depol_var_ground=[\"parDepol_klett_355\", \"parDepol_raman_355\"],\n",
    "        height_range=(0, 12e3),  # Change the plotting height as needed\n",
    "        selection_height_range=(2e3, 4e3),  # Change the selected height range to get statistics from as needed or set to None\n",
    "        value_range_bsc=(0, 8e-6),  # Must be given as [m-1sr-1] and will be auto. converted to [Mm-1sr-1] if to_mega=True\n",
    "        value_range_ext=(0, 3e-4),  # Must be given as [m-1] and will be auto. converted to [Mm-1] if to_mega=True\n",
    "        value_range_lr=(0, 100),\n",
    "        value_range_depol=(0, 0.6),\n",
    "        to_mega=True,  # e.g., plots [m-1sr-1] as [Mm-1sr-1]\n",
    "    )\n",
    "    display(results.stats)"
   ]
  },
  {
   "cell_type": "code",
   "execution_count": null,
   "id": "256958e5",
   "metadata": {},
   "outputs": [],
   "source": [
    "print(\"Save the plot:\")\n",
    "eck.save_plot(results.fig, filepath=\"./01508B_20250902_aebd_vs_polly_profiles.png\")\n",
    "\n",
    "print(\"Save the stat. results:\")\n",
    "results.stats.to_csv(\"./01508B_20250902_aebd_vs_polly_profiles.csv\", index=False)"
   ]
  },
  {
   "cell_type": "markdown",
   "id": "31ead582",
   "metadata": {},
   "source": [
    "## **6.3** Edit ground-based profiles, add errors and other plotting customizations"
   ]
  },
  {
   "cell_type": "code",
   "execution_count": null,
   "id": "d6afb70e",
   "metadata": {},
   "outputs": [],
   "source": [
    "import numpy as np\n",
    "with (\n",
    "    eck.read_product(fp_aebd) as ds_aebd,\n",
    "    eck.read_any(fp_ground) as ds_ground,\n",
    "):\n",
    "    # Add a new variable to the ground-based dataset and edit it.\n",
    "    # Here data outside a certain height range is set no NaN:\n",
    "    h = ds_ground[\"height\"].values\n",
    "    mask = np.logical_not(\n",
    "        np.logical_and(\n",
    "            h >= 1.8e3,\n",
    "            h <= 4.3e3,\n",
    "        )\n",
    "    )\n",
    "    ds_ground[\"NEW_aerLR_raman_355\"] = ds_ground[\"aerLR_raman_355\"].copy()  # Ensure you copy the variable with `.copy()` otherwise the original will also be overwritten\n",
    "    ds_ground[\"NEW_aerLR_raman_355\"].values[mask] = np.nan\n",
    "\n",
    "    results = eck.compare_bsc_ext_lr_depol(\n",
    "        input_ec=ds_aebd,\n",
    "        input_ground=ds_ground,\n",
    "        site=site,\n",
    "        time_var_ground=\"start_time\",  # Set to the time variable name in the ground-based dataset\n",
    "        height_var_ground=\"height\",  # Set to the height variable name in the ground-based dataset\n",
    "        resolution=\"low\",  # Change the A-EBD resolution as needed\n",
    "        # Instead of giving a single variable name you can give a tuple of 2 variable names, where the first corresponds to the signal and the second to its related error variable name\n",
    "        bsc_var_ground=[\n",
    "            (\"aerBsc_klett_355\", \"uncertainty_aerBsc_klett_355\"),\n",
    "            (\"aerBsc_raman_355\", \"uncertainty_aerBsc_raman_355\"),\n",
    "        ],\n",
    "        ext_var_ground=[(\"aerExt_klett_355\", \"uncertainty_aerExt_klett_355\"), (\"aerExt_raman_355\", \"uncertainty_aerExt_raman_355\")],\n",
    "        lr_var_ground=[(\"aerLR_klett_355\", \"uncertainty_aerLR_klett_355\"), \"NEW_aerLR_raman_355\"],  # Here the new variable is used\n",
    "        depol_var_ground=[(\"parDepol_klett_355\", \"uncertainty_parDepol_klett_355\"), (\"parDepol_raman_355\", \"uncertainty_parDepol_raman_355\")],\n",
    "        height_range=(0, 12e3),  # Change the plotting height as needed\n",
    "        selection_height_range=(2e3, 4e3),  # Change the selected height range to get statistics from as needed or set to None\n",
    "        show_error_ec=True,  # Plots errors as ribbons for the EarthCARE profiles\n",
    "        to_mega=True,\n",
    "        # colors_ec=[\"ec:earthcare\", \"ec:purple\", \"black\"],  # Edit colors of EarthCARE profiles\n",
    "        # colors_ground=[\"tab:blue\", \"green\", \"#ff0000\"],  # Edit colors of ground-based profiles\n",
    "        # show_steps=False,  # Plot height bin centers instead of step function\n",
    "        # single_figsize=(2, 4),  # You may edit the sub figure sizes\n",
    "    )\n",
    "    display(results.stats)"
   ]
  }
 ],
 "metadata": {
  "kernelspec": {
   "display_name": "eckenv (3.11.9)",
   "language": "python",
   "name": "python3"
  },
  "language_info": {
   "codemirror_mode": {
    "name": "ipython",
    "version": 3
   },
   "file_extension": ".py",
   "mimetype": "text/x-python",
   "name": "python",
   "nbconvert_exporter": "python",
   "pygments_lexer": "ipython3",
   "version": "3.11.9"
  }
 },
 "nbformat": 4,
 "nbformat_minor": 5
}
