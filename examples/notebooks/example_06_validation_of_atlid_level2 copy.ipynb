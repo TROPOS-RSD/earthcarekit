{
 "cells": [
  {
   "cell_type": "markdown",
   "id": "5329f79c",
   "metadata": {},
   "source": [
    "# **Example 6** Validation of ATLID level 2 data\n",
    "\n",
    "This notebook shows how A-EBD profiles (backscatter, extinction, lidar ratio and depol. ratio) can be compared with ground-based data from `.nc`-files."
   ]
  },
  {
   "cell_type": "code",
   "execution_count": null,
   "id": "37a2e3b3",
   "metadata": {},
   "outputs": [],
   "source": [
    "import earthcarekit as eck"
   ]
  },
  {
   "cell_type": "markdown",
   "id": "b6e0a601",
   "metadata": {},
   "source": [
    "## Requirements\n",
    "\n",
    "For this example you need a A-EBD file from an overpass and the matching ground data (e.g., PollyNET `.nc`-file).\n",
    "\n",
    "Paste both file paths into the cell below:"
   ]
  },
  {
   "cell_type": "code",
   "execution_count": null,
   "id": "46df65d1",
   "metadata": {},
   "outputs": [],
   "source": [
    "fp_aebd = r\"./ECA_EXBA_ATL_EBD_2A_20240902T210023Z_20250721T110708Z_01508B.h5\"\n",
    "fp_ground = r\"./2024_09_02_Mon_TJK_00_00_01_2000_2130_profiles.nc\"\n",
    "\n",
    "# Also specify the ground site by either setting its name (string) or creating a custom GroundSite object:\n",
    "site = \"dushanbe\"\n",
    "radius_km = 100.0"
   ]
  },
  {
   "cell_type": "markdown",
   "id": "12c22ede",
   "metadata": {},
   "source": [
    "## **6.1** Open and view datasets"
   ]
  },
  {
   "cell_type": "code",
   "execution_count": null,
   "id": "b65ef9d2",
   "metadata": {},
   "outputs": [],
   "source": [
    "print(\"Open the A-EBD dataset:\")\n",
    "with eck.read_product(fp_aebd) as ds_aebd:\n",
    "    display(ds_aebd)\n",
    "\n",
    "print(\"Open the ground-based dataset:\")\n",
    "with eck.read_nc(fp_ground) as ds_ground:\n",
    "    display(ds_ground)"
   ]
  },
  {
   "cell_type": "code",
   "execution_count": null,
   "id": "4ee8eceb",
   "metadata": {},
   "outputs": [],
   "source": [
    "import logging\n",
    "print(\"Create a quicklook of the overpass from the A-EBD file:\")\n",
    "print(\"Note: When plotting profiles from A-PRO products, the `ecquicklook` function will automatically plot only the closest profile within the set radius.\")\n",
    "fig, _ = eck.ecquicklook(\n",
    "    ds=ds_aebd,\n",
    "    site=site,\n",
    "    radius_km=radius_km,\n",
    "    resolution=\"low\",  # Change the A-EBD resolution as needed\n",
    "    height_range=(0, 12e3),  # Change the plotting height as needed\n",
    "    selection_max_time_margin=\"00:01:00\",  # Crop the plot to show only 1 Minute around the overpass start and end times\n",
    "    logger=logging.getLogger(),  # Optional: Shows plotting progress\n",
    ")\n",
    "print(\"Save the quicklook:\")\n",
    "eck.save_plot(fig, filepath=\"./01508B_20250902_aebd_quicklook.png\")"
   ]
  },
  {
   "cell_type": "markdown",
   "id": "557acf0e",
   "metadata": {},
   "source": [
    "## **Example 6.2** Create backscatter, extinction, lidar ratio and depol. ratio profile plots and comparison statistics "
   ]
  },
  {
   "cell_type": "code",
   "execution_count": null,
   "id": "fb68e561",
   "metadata": {},
   "outputs": [],
   "source": [
    "fig, df = eck.compare_bsc_ext_lr_depol(\n",
    "    fp_ec=fp_aebd,\n",
    "    fp_target=fp_ground,\n",
    "    site=site,\n",
    "    time_var_target=\"start_time\",  # Set to the time variable name in the ground-based dataset\n",
    "    height_var_target=\"height\",  # Set to the height variable name in the ground-based dataset\n",
    "    resolustion=\"low\",  # Change the A-EBD resolution as needed\n",
    "    bsc_var_target=[\"aerBsc_klett_355\", \"aerBsc_raman_355\"],  # Give at least one bsc. variable name from the ground-based dataset\n",
    "    ext_var_target=[\"aerExt_klett_355\", \"aerExt_raman_355\"],  # Give at least one ext. variable name from the ground-based dataset\n",
    "    lr_var_target=[\"aerLR_klett_355\", \"aerLR_raman_355\"],  # Give at least one LR variable name from the ground-based dataset\n",
    "    depol_var_target=[\"parDepol_klett_355\", \"parDepol_raman_355\"],  # Give at least one depol. variable name from the ground-based dataset\n",
    "    height_range=(0, 12e3),  # Change the plotting height as needed\n",
    "    selection_height_range=(2e3, 4e3),  # Change the selected height range to get statistics from as needed or set to None\n",
    ")\n",
    "display(df)\n",
    "\n",
    "print(\"Save the plot:\")\n",
    "eck.save_plot(fig, filepath=\"./01508B_20250902_aebd_vs_polly_profiles.png\")\n",
    "\n",
    "print(\"Save the stat. results:\")\n",
    "df.to_csv(\"./01508B_20250902_aebd_vs_polly_profiles.csv\", index=False)"
   ]
  }
 ],
 "metadata": {
  "kernelspec": {
   "display_name": "eckenv (3.11.9)",
   "language": "python",
   "name": "python3"
  },
  "language_info": {
   "codemirror_mode": {
    "name": "ipython",
    "version": 3
   },
   "file_extension": ".py",
   "mimetype": "text/x-python",
   "name": "python",
   "nbconvert_exporter": "python",
   "pygments_lexer": "ipython3",
   "version": "3.11.9"
  }
 },
 "nbformat": 4,
 "nbformat_minor": 5
}
